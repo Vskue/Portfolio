{
 "cells": [
  {
   "cell_type": "code",
   "execution_count": 2,
   "id": "4d08b91d-818a-46b0-bc25-edd905195780",
   "metadata": {},
   "outputs": [
    {
     "name": "stdout",
     "output_type": "stream",
     "text": [
      "Hello Victoria!\n"
     ]
    }
   ],
   "source": [
    "print(\"Hello Victoria!\")"
   ]
  },
  {
   "cell_type": "code",
   "execution_count": 4,
   "id": "5a3be526-e61a-48d5-adbd-132dc3c4127c",
   "metadata": {},
   "outputs": [],
   "source": [
    "import time\n",
    "time.sleep(3)"
   ]
  },
  {
   "cell_type": "code",
   "execution_count": 6,
   "id": "554d05ce-16d0-409b-995d-8cfd06a68a41",
   "metadata": {},
   "outputs": [
    {
     "data": {
      "text/plain": [
       "'Hello, Victoria!'"
      ]
     },
     "execution_count": 6,
     "metadata": {},
     "output_type": "execute_result"
    }
   ],
   "source": [
    "def say_hello(recipient):\n",
    "    return 'Hello, {}!'.format(recipient)\n",
    "say_hello('Victoria')"
   ]
  },
  {
   "cell_type": "code",
   "execution_count": null,
   "id": "ed6405e0-3f6e-402c-afea-3f927d185b53",
   "metadata": {},
   "outputs": [],
   "source": [
    "#Markdown Guide\n",
    "\n",
    "#level 1 Header\n",
    "##Level 2 Header\n",
    "\n",
    "This is some plain text that forms a paragraph. Add emphasis via **bold** or __bold__, and *italic* or _italic_.\n",
    "\n",
    "Paragraphs must be separated by an empty line.\n",
    "\n",
    "* Sometimes we want to include lists.\n",
    "* Which can be bulleted using asterisks.\n",
    "\n",
    "1. Lists can also be numbered.\n",
    "2. If we want an ordered list.\n",
    "\n",
    "[It is possible to include hyperlinks](https://www.dataquest.io)\n",
    "\n",
    "Inline code uses single backticks: `foo()`, and code blocks use triple backticks:\n",
    "```\n",
    "bar()\n",
    "```\n",
    "Or can be indented by 4 spaces:\n",
    "```\n",
    "    foo()\n",
    "```\n",
    "\n",
    "And finally, adding images is easy: ![Alt text](https://www.dataquest.io/wp-content/uploads/2023/02/DQ-Logo.svg)"
   ]
  }
 ],
 "metadata": {
  "kernelspec": {
   "display_name": "Python [conda env:base] *",
   "language": "python",
   "name": "conda-base-py"
  },
  "language_info": {
   "codemirror_mode": {
    "name": "ipython",
    "version": 3
   },
   "file_extension": ".py",
   "mimetype": "text/x-python",
   "name": "python",
   "nbconvert_exporter": "python",
   "pygments_lexer": "ipython3",
   "version": "3.12.7"
  }
 },
 "nbformat": 4,
 "nbformat_minor": 5
}
